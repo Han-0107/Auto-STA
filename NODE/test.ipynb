{
 "cells": [
  {
   "cell_type": "markdown",
   "metadata": {},
   "source": [
    "## Cell Delay Prediction by Augmented Neural ODEs"
   ]
  },
  {
   "cell_type": "code",
   "execution_count": 96,
   "metadata": {},
   "outputs": [],
   "source": [
    "import matplotlib.pyplot as plt\n",
    "%matplotlib inline\n",
    "import torch\n",
    "import torch.nn as nn\n",
    "import torch.optim as optim\n",
    "from torch.utils.data import DataLoader\n",
    "\n",
    "device = torch.device('cpu')"
   ]
  },
  {
   "cell_type": "markdown",
   "metadata": {},
   "source": [
    "### Create an ODE function"
   ]
  },
  {
   "cell_type": "code",
   "execution_count": 97,
   "metadata": {},
   "outputs": [],
   "source": [
    "from anode.models import ODENet\n",
    "from anode.training import Trainer\n",
    "\n",
    "data_dim = 6\n",
    "hidden_dim = 16"
   ]
  },
  {
   "cell_type": "markdown",
   "metadata": {},
   "source": [
    "### Prepare Dataset\n",
    "用一个向量表示数据。"
   ]
  },
  {
   "cell_type": "code",
   "execution_count": 101,
   "metadata": {},
   "outputs": [
    {
     "name": "stdout",
     "output_type": "stream",
     "text": [
      "模型输入: tensor([[ 8.,  9., 10.,  0.,  1.,  0.],\n",
      "        [13., 14., 15.,  0.,  1.,  1.]])\n",
      "标签: tensor([[ 6.,  7.],\n",
      "        [11., 12.]])\n",
      "模型输入: tensor([[3., 4., 5., 0., 0., 1.]])\n",
      "标签: tensor([[1., 2.]])\n"
     ]
    }
   ],
   "source": [
    "class CellData():\n",
    "    def __init__(self, data):\n",
    "        self.data = data\n",
    "\n",
    "    def __getitem__(self, index):\n",
    "        vector = self.data[index]\n",
    "        labels = vector[:2]\n",
    "        inputs = vector[2:]\n",
    "        return inputs, labels\n",
    "    \n",
    "    def __len__(self):\n",
    "        return len(self.data)\n",
    "    \n",
    "data = torch.tensor([\n",
    "    [1.0, 2.0, 3.0, 4.0, 5.0, 0, 0, 1],\n",
    "    [6.0, 7.0, 8.0, 9.0, 10.0, 0, 1, 0],\n",
    "    [11.0, 12.0, 13.0, 14.0, 15.0, 0, 1, 1]\n",
    "])\n",
    "\n",
    "dataset = CellData(data)\n",
    "dataloader = DataLoader(dataset, batch_size=2, shuffle=True)\n",
    "\n",
    "for input, label in dataloader:\n",
    "    print(\"模型输入:\", input)\n",
    "    print(\"标签:\", label)"
   ]
  },
  {
   "cell_type": "markdown",
   "metadata": {},
   "source": [
    "### Model Definition"
   ]
  },
  {
   "cell_type": "code",
   "execution_count": 102,
   "metadata": {},
   "outputs": [],
   "source": [
    "model = ODENet(device, data_dim, hidden_dim, time_dependent=False, non_linearity='relu')\n",
    "\n",
    "criterion = nn.MSELoss()\n",
    "optimizer = optim.Adam(model.parameters(), lr=0.001)"
   ]
  },
  {
   "cell_type": "markdown",
   "metadata": {},
   "source": [
    "### Training"
   ]
  },
  {
   "cell_type": "code",
   "execution_count": 103,
   "metadata": {},
   "outputs": [
    {
     "name": "stdout",
     "output_type": "stream",
     "text": [
      "\n",
      "Iteration 0/2\n",
      "Loss: 0.959\n",
      "NFE: 14\n",
      "BNFE: 0\n",
      "Total NFE: 14\n",
      "Epoch 1: 0.588\n",
      "\n",
      "Iteration 0/2\n",
      "Loss: 0.416\n",
      "NFE: 14\n",
      "BNFE: 0\n",
      "Total NFE: 14\n",
      "Epoch 2: 0.702\n",
      "\n",
      "Iteration 0/2\n",
      "Loss: 0.790\n",
      "NFE: 20\n",
      "BNFE: 0\n",
      "Total NFE: 20\n",
      "Epoch 3: 0.464\n",
      "\n",
      "Iteration 0/2\n",
      "Loss: 0.728\n",
      "NFE: 14\n",
      "BNFE: 0\n",
      "Total NFE: 14\n",
      "Epoch 4: 0.427\n",
      "\n",
      "Iteration 0/2\n",
      "Loss: 0.452\n",
      "NFE: 14\n",
      "BNFE: 0\n",
      "Total NFE: 14\n",
      "Epoch 5: 0.491\n",
      "\n",
      "Iteration 0/2\n",
      "Loss: 0.644\n",
      "NFE: 14\n",
      "BNFE: 0\n",
      "Total NFE: 14\n",
      "Epoch 6: 0.391\n"
     ]
    },
    {
     "name": "stderr",
     "output_type": "stream",
     "text": [
      "c:\\Users\\13126\\AppData\\Local\\Programs\\Python\\Python311\\Lib\\site-packages\\torch\\nn\\modules\\loss.py:928: UserWarning: Using a target size (torch.Size([2, 2])) that is different to the input size (torch.Size([2, 1])). This will likely lead to incorrect results due to broadcasting. Please ensure they have the same size.\n",
      "  return F.smooth_l1_loss(input, target, reduction=self.reduction, beta=self.beta)\n"
     ]
    },
    {
     "name": "stdout",
     "output_type": "stream",
     "text": [
      "\n",
      "Iteration 0/2\n",
      "Loss: 0.501\n",
      "NFE: 14\n",
      "BNFE: 0\n",
      "Total NFE: 14\n",
      "Epoch 7: 0.422\n",
      "\n",
      "Iteration 0/2\n",
      "Loss: 0.525\n",
      "NFE: 14\n",
      "BNFE: 0\n",
      "Total NFE: 14\n",
      "Epoch 8: 0.402\n",
      "\n",
      "Iteration 0/2\n",
      "Loss: 0.552\n",
      "NFE: 14\n",
      "BNFE: 0\n",
      "Total NFE: 14\n",
      "Epoch 9: 0.388\n",
      "\n",
      "Iteration 0/2\n",
      "Loss: 0.571\n",
      "NFE: 14\n",
      "BNFE: 0\n",
      "Total NFE: 14\n",
      "Epoch 10: 0.401\n",
      "\n",
      "Iteration 0/2\n",
      "Loss: 0.205\n",
      "NFE: 14\n",
      "BNFE: 0\n",
      "Total NFE: 14\n",
      "Epoch 11: 0.590\n",
      "\n",
      "Iteration 0/2\n",
      "Loss: 0.566\n",
      "NFE: 14\n",
      "BNFE: 0\n",
      "Total NFE: 14\n",
      "Epoch 12: 0.415\n",
      "\n",
      "Iteration 0/2\n",
      "Loss: 0.207\n",
      "NFE: 14\n",
      "BNFE: 0\n",
      "Total NFE: 14\n",
      "Epoch 13: 0.592\n",
      "\n",
      "Iteration 0/2\n",
      "Loss: 0.562\n",
      "NFE: 14\n",
      "BNFE: 0\n",
      "Total NFE: 14\n",
      "Epoch 14: 0.409\n",
      "\n",
      "Iteration 0/2\n",
      "Loss: 0.602\n",
      "NFE: 14\n",
      "BNFE: 0\n",
      "Total NFE: 14\n",
      "Epoch 15: 0.387\n",
      "\n",
      "Iteration 0/2\n",
      "Loss: 0.557\n",
      "NFE: 14\n",
      "BNFE: 0\n",
      "Total NFE: 14\n",
      "Epoch 16: 0.392\n",
      "\n",
      "Iteration 0/2\n",
      "Loss: 0.570\n",
      "NFE: 14\n",
      "BNFE: 0\n",
      "Total NFE: 14\n",
      "Epoch 17: 0.387\n",
      "\n",
      "Iteration 0/2\n",
      "Loss: 0.557\n",
      "NFE: 14\n",
      "BNFE: 0\n",
      "Total NFE: 14\n",
      "Epoch 18: 0.380\n",
      "\n",
      "Iteration 0/2\n",
      "Loss: 0.545\n",
      "NFE: 14\n",
      "BNFE: 0\n",
      "Total NFE: 14\n",
      "Epoch 19: 0.389\n",
      "\n",
      "Iteration 0/2\n",
      "Loss: 0.558\n",
      "NFE: 14\n",
      "BNFE: 0\n",
      "Total NFE: 14\n",
      "Epoch 20: 0.373\n"
     ]
    }
   ],
   "source": [
    "num_epochs = 20\n",
    "\n",
    "trainer = Trainer(model, optimizer, device)\n",
    "trainer.train(dataloader, num_epochs)"
   ]
  }
 ],
 "metadata": {
  "kernelspec": {
   "display_name": "Python 3",
   "language": "python",
   "name": "python3"
  },
  "language_info": {
   "codemirror_mode": {
    "name": "ipython",
    "version": 3
   },
   "file_extension": ".py",
   "mimetype": "text/x-python",
   "name": "python",
   "nbconvert_exporter": "python",
   "pygments_lexer": "ipython3",
   "version": "3.11.4"
  }
 },
 "nbformat": 4,
 "nbformat_minor": 2
}
